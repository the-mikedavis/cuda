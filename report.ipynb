{
 "cells": [
  {
   "cell_type": "markdown",
   "metadata": {},
   "source": [
    "# Project 5 Report\n",
    "## Correspondence Grouping with Cuda\n",
    "### Michael Davis, Luis Gonzalo, Pedro Peña"
   ]
  },
  {
   "cell_type": "markdown",
   "metadata": {},
   "source": [
    "Description\n",
    "======\n",
    "This problem deals with pose estimation, i.e., $(\\mathbf{p} \\in \\mathbf{R}^2, \\mathbf{R} \\in SO(2))$, of an object where the pose of the object is unknown. This problem is commonly dealt in computer vision where an arbitrary object in an image is detected but only 2D landmarks such as position in the image coordinates, e.g., pixel space, or higher level features are detected, but the position of the object in space relative to an arbitrary frame of reference is unknown. In this project, the input of the problem is an arbitrary set of 2D points in space in which we need to estimate the pose of these points. Moreover, we do not know the correspondence of these points relative to another dataset.  "
   ]
  },
  {
   "cell_type": "markdown",
   "metadata": {},
   "source": [
    "Approach\n",
    "======\n",
    "Inspired by Iterative Closest Point (*ICP*) where the algorithm minimizes the difference between two point clouds, we implemented two optimization algorithms (numerical and analytical) to find the pose of the object. Therefore, we use a template point cloud that is a copy of the original dataset received and randomly perturb the pose. This is the initial input into the optimization. The optimization, therefore, receives two datasets, and uses the perturbed dataset to find the pose of the original dataset. But as stated in the description above, the correspondence between these two datasets are unknown, i.e., we do not know which points of the template corresponds to the points in the original dataset. In order to find the correspondence between points, we use a Nearest Neighbor algorithm that assumes that the points that are the closest to each other correspond to each other. Although it is a strong assumption, the iterative nature of the algorithm allows the points to settle down to an equilibrium where the final points attain the correct correspondence, or at least, it has very likelihood of doing so.\n",
    "\n",
    "Numerical based Non-linear Least Squares\n",
    "------\n",
    "The iterative optimization utilizes Guass-Newton method, an algorithm to solve nonlinear least squares, to find the pose of the dataset. This approach numerically calculates the gradient of the system to find the fixed points of the function. The general function of the system is defined as: $ F(x) = x_{n+1} = x_n - \\mathbf{J}^{-1}\\cdot f(x)$, where $\\mathbf{J}^{-1}$ is the pseudoinverse of the jacobian constructed from the gradients of the system. The gradients of the system are not explicitely known but they are determined by perturbing the system by some $\\epsilon$. The system iterates until the change $dx = x_{n+1} - x_{n} = - \\mathbf{J}^{-1}\\cdot f(x) < \\delta$.\n",
    "\n",
    "Analytic based Least Squares\n",
    "------\n",
    "The analytic based approach utilizes the explicit gradient of the least squares to solve the regression. It is also iterative because it uses momemtum based control to stabilize the system.\n",
    "\n",
    "Nearest Neighbor\n",
    "------\n",
    "The nearest neighbor used for this project is based on the Euclidean distance between points. Although it is a naive approach, it allowed us to parallelize the linear search between points where each thread was assigned an index on the template dataset and simultaneously found the point from the original dataset that has the minimum distance between the point in the template dataset. The parallelization was done with pycuda.\n",
    "\n",
    "The kernel is written in CUDA.\n",
    "\n",
    "```c\n",
    "__global__ void nn(int *dest, double *a, double *b, int n) {\n",
    "  const int idx = threadIdx.x + blockDim.x * blockIdx.x;\n",
    "  // arrays are flattened when copied, so [[x, y], [x, y] ...] becomes [x, y, x, y, ...]\n",
    "  const int i = 2 * idx;\n",
    "  double min_value = 1.0 / 0.0;\n",
    "  double dist;\n",
    "  int min_index = 0;\n",
    "  int j;\n",
    "\n",
    "  for (j = 0; j < 2 * n; j += 2) {\n",
    "    // hypotf is a builtin; returns the square root of the sum of the squared arguments\n",
    "    dist = hypotf(b[j] - a[i], b[j + 1] - a[i + 1]);\n",
    "    if (dist < min_value) {\n",
    "      min_value = dist;\n",
    "      min_index = j/2;\n",
    "    }\n",
    "  }\n",
    "\n",
    "  dest[idx] = min_index;\n",
    "}\n",
    "```\n",
    "\n",
    "    Each is assigned a point in the `a` cloud. Each thread then finds the nearest neighbor by checking each point in `b` using Euclidean distance. This parallelization requires $O(|a|)$ memory space and $O(|A|)\n"
   ]
  },
  {
   "cell_type": "markdown",
   "metadata": {},
   "source": [
    "Implementation\n",
    "======\n",
    "Analytic based Least Squares\n",
    "------"
   ]
  },
  {
   "cell_type": "code",
   "execution_count": 36,
   "metadata": {},
   "outputs": [],
   "source": [
    "import match as m\n",
    "import matplotlib\n",
    "import random\n",
    "import argparse\n",
    "import numpy as np\n",
    "import matplotlib.pyplot as plt\n",
    "import ls_optimization_luis as lsopt\n"
   ]
  },
  {
   "cell_type": "markdown",
   "metadata": {},
   "source": [
    "### Construct test point clouds"
   ]
  },
  {
   "cell_type": "code",
   "execution_count": 37,
   "metadata": {},
   "outputs": [
    {
     "data": {
      "image/png": "[encoded data removed]",
      "text/plain": [
       "<Figure size 432x288 with 1 Axes>"
      ]
     },
     "metadata": {
      "needs_background": "light"
     },
     "output_type": "display_data"
    }
   ],
   "source": [
    "# reference pointcloud\n",
    "X = np.random.normal(size=(30, 2))\n",
    "# random rotation and shift\n",
    "true_theta = np.random.uniform(low=-np.pi, high=np.pi)\n",
    "true_b = np.random.normal(scale=4.0, size=(2,))\n",
    "# transform reference pointcloud\n",
    "Y = lsopt.transformPointCloud(X, -true_theta, -true_b)\n",
    "Y += np.random.normal(scale=0.1, size=Y.shape)\n",
    "plt.scatter(X[:,0], X[:,1])\n",
    "plt.scatter(Y[:,0], Y[:,1])\n",
    "plt.show()"
   ]
  },
  {
   "cell_type": "markdown",
   "metadata": {},
   "source": [
    "### Match point clouds"
   ]
  },
  {
   "cell_type": "code",
   "execution_count": 38,
   "metadata": {},
   "outputs": [
    {
     "name": "stdout",
     "output_type": "stream",
     "text": [
      "Converged after 287 iterations\n"
     ]
    },
    {
     "data": {
      "image/png": "[encoded data removed]",
      "text/plain": [
       "<Figure size 432x288 with 1 Axes>"
      ]
     },
     "metadata": {
      "needs_background": "light"
     },
     "output_type": "display_data"
    }
   ],
   "source": [
    "\n",
    "Y_match, cost = lsopt.matchPairs(X, Y, mu=0.05, max_iter=1000, tol=1e-10)\n",
    "plt.scatter(X[:,0], X[:,1])\n",
    "plt.scatter(Y_match[:,0], Y_match[:,1])\n",
    "plt.show()"
   ]
  },
  {
   "cell_type": "code",
   "execution_count": 39,
   "metadata": {},
   "outputs": [
    {
     "data": {
      "text/plain": [
       "Text(0.5,0,'iteration')"
      ]
     },
     "execution_count": 39,
     "metadata": {},
     "output_type": "execute_result"
    },
    {
     "data": {
      "image/png": "[encoded data removed]",
      "text/plain": [
       "<Figure size 432x288 with 1 Axes>"
      ]
     },
     "metadata": {
      "needs_background": "light"
     },
     "output_type": "display_data"
    }
   ],
   "source": [
    "plt.plot(cost)\n",
    "plt.ylabel('Cost')\n",
    "plt.xlabel('iteration')"
   ]
  },
  {
   "cell_type": "markdown",
   "metadata": {},
   "source": [
    "Numerical based Non-linear Least Squares\n",
    "------"
   ]
  },
  {
   "cell_type": "code",
   "execution_count": 40,
   "metadata": {},
   "outputs": [],
   "source": [
    "random_seed = random.randint(1, 262571)\n",
    "random.seed(a=random_seed)\n",
    "np.random.seed(seed=random_seed)"
   ]
  },
  {
   "cell_type": "code",
   "execution_count": 41,
   "metadata": {},
   "outputs": [
    {
     "name": "stdout",
     "output_type": "stream",
     "text": [
      "theta: 98\n"
     ]
    }
   ],
   "source": [
    "transformation = m.generate_transformation()"
   ]
  },
  {
   "cell_type": "code",
   "execution_count": 42,
   "metadata": {},
   "outputs": [
    {
     "name": "stdout",
     "output_type": "stream",
     "text": [
      "Transformation matrix:\n",
      "[[ -0.1391731   -0.99026807 -12.        ]\n",
      " [  0.99026807  -0.1391731   16.        ]\n",
      " [  0.           0.           1.        ]]\n"
     ]
    }
   ],
   "source": [
    "print(\"Transformation matrix:\")\n",
    "print(transformation)\n"
   ]
  },
  {
   "cell_type": "code",
   "execution_count": 43,
   "metadata": {},
   "outputs": [],
   "source": [
    "dataset = m.generate_dataset(transformation)"
   ]
  },
  {
   "cell_type": "markdown",
   "metadata": {},
   "source": [
    "### Construct test point clouds"
   ]
  },
  {
   "cell_type": "code",
   "execution_count": 44,
   "metadata": {
    "scrolled": true
   },
   "outputs": [
    {
     "data": {
      "image/png": "[encoded data removed]",
      "text/plain": [
       "<Figure size 432x288 with 1 Axes>"
      ]
     },
     "metadata": {
      "needs_background": "light"
     },
     "output_type": "display_data"
    }
   ],
   "source": [
    "m.show_dataset(dataset)"
   ]
  },
  {
   "cell_type": "markdown",
   "metadata": {},
   "source": [
    "### Run optimization and Parallel Nearest Neighbors"
   ]
  },
  {
   "cell_type": "code",
   "execution_count": 45,
   "metadata": {},
   "outputs": [
    {
     "name": "stdout",
     "output_type": "stream",
     "text": [
      "  Iterations : 1024\n",
      "  Calculated : [ 0.30999834 -0.49527298  0.00458596]\n"
     ]
    }
   ],
   "source": [
    "opt_dataset = m.optimize(dataset)"
   ]
  },
  {
   "cell_type": "markdown",
   "metadata": {},
   "source": [
    "### Show the first four iterations"
   ]
  },
  {
   "cell_type": "code",
   "execution_count": 46,
   "metadata": {},
   "outputs": [
    {
     "data": {
      "image/png": "[encoded data removed]",
      "text/plain": [
       "<Figure size 432x288 with 4 Axes>"
      ]
     },
     "metadata": {
      "needs_background": "light"
     },
     "output_type": "display_data"
    }
   ],
   "source": [
    "m.show_dataset(opt_dataset, name = \"result_subplot\", subplot = True)"
   ]
  },
  {
   "cell_type": "markdown",
   "metadata": {},
   "source": [
    "### Show the final result"
   ]
  },
  {
   "cell_type": "code",
   "execution_count": 47,
   "metadata": {},
   "outputs": [],
   "source": [
    "a, b, r = opt_dataset\n",
    "dataset = (a, b)"
   ]
  },
  {
   "cell_type": "code",
   "execution_count": 48,
   "metadata": {
    "scrolled": true
   },
   "outputs": [
    {
     "data": {
      "image/png": "[encoded data removed]",
      "text/plain": [
       "<Figure size 432x288 with 1 Axes>"
      ]
     },
     "metadata": {
      "needs_background": "light"
     },
     "output_type": "display_data"
    }
   ],
   "source": [
    "m.show_dataset(dataset, name = \"result\")"
   ]
  }
 ],
 "metadata": {
  "kernelspec": {
   "display_name": "Python 2",
   "language": "python",
   "name": "python2"
  },
  "language_info": {
   "codemirror_mode": {
    "name": "ipython",
    "version": 3
   },
   "file_extension": ".py",
   "mimetype": "text/x-python",
   "name": "python",
   "nbconvert_exporter": "python",
   "pygments_lexer": "ipython3",
   "version": "3.6.8"
  }
 },
 "nbformat": 4,
 "nbformat_minor": 2
}
